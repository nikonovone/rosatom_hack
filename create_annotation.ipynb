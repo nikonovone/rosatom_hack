{
 "cells": [
  {
   "cell_type": "code",
   "execution_count": 1,
   "metadata": {},
   "outputs": [],
   "source": [
    "import glob\n",
    "import json\n",
    "import os\n",
    "import re\n",
    "from pathlib import Path"
   ]
  },
  {
   "cell_type": "markdown",
   "metadata": {},
   "source": [
    "## Создание аннотаций в формате JSON"
   ]
  },
  {
   "cell_type": "markdown",
   "metadata": {},
   "source": [
    "Создание аннотаций без учета разделения на train, test"
   ]
  },
  {
   "cell_type": "code",
   "execution_count": null,
   "metadata": {},
   "outputs": [],
   "source": [
    "data = {}\n",
    "current_name = None\n",
    "pattern = r\".*\\\\.*\"\n",
    "\n",
    "with open(\"data/metadata/test_set.txt\", \"r\", encoding=\"Windows 1251\") as file:\n",
    "    for line in file:\n",
    "        line = line.strip()\n",
    "        if re.match(pattern, line):\n",
    "            current_name = line\n",
    "            data[current_name] = []\n",
    "        else:\n",
    "            x, y, cat = line.split(\", \")\n",
    "            data[current_name].append((int(x), int(y), int(cat)))\n",
    "\n",
    "\n",
    "with open(\"test.json\", \"w\") as f:\n",
    "    json.dump(data, f, indent=4)\n",
    "\n",
    "data = {}\n",
    "current_name = None\n",
    "pattern = r\".*\\\\.*\"\n",
    "\n",
    "with open(\"data/metadata/set.txt\", \"r\", encoding=\"Windows 1251\") as file:\n",
    "    for line in file:\n",
    "        line = line.strip()\n",
    "        if re.match(pattern, line):\n",
    "            current_name = line\n",
    "            data[current_name] = []\n",
    "        else:\n",
    "            x, y, cat = line.split(\", \")\n",
    "            data[current_name].append((int(x), int(y), int(cat)))\n",
    "\n",
    "\n",
    "with open(\"train.json\", \"w\") as f:\n",
    "    json.dump(data, f, indent=4)"
   ]
  },
  {
   "cell_type": "markdown",
   "metadata": {},
   "source": [
    "Создание аннотаций c разделением на train, test"
   ]
  },
  {
   "cell_type": "code",
   "execution_count": null,
   "metadata": {},
   "outputs": [],
   "source": [
    "with open(\"train.json\", \"r\", encoding=\"utf-8\") as f:\n",
    "    train_ann = json.load(f)\n",
    "\n",
    "dataset_dir = Path(\"./data/FRAMES/\")\n",
    "\n",
    "total_subfolders = len([x for x in dataset_dir.glob(\"*\") if x.is_dir()])\n",
    "train_new = {}\n",
    "test_new = {}\n",
    "train_keys = list(train_ann.keys())\n",
    "k_train = 0.8\n",
    "int(total_subfolders * k_train)\n",
    "k = 0\n",
    "\n",
    "for subfolder in sorted(list(dataset_dir.glob(\"*\"))):\n",
    "    if subfolder.is_dir():\n",
    "        if k <= int(total_subfolders * k_train):\n",
    "            for img_path in subfolder.rglob(\"*.bmp\"):\n",
    "                img_path = str(img_path).encode(\"UTF-8\").decode(\"UTF-8\")\n",
    "                img_path = str(img_path).replace(dataset_dir.as_posix() + \"/\", \"\")\n",
    "                img_path = img_path.replace(\".bmp\", \".frame\")\n",
    "                img_path = img_path.replace(\"/\", \"\\\\\")\n",
    "                if img_path in train_keys:\n",
    "                    labels = train_ann[img_path]\n",
    "                    train_new[img_path] = labels\n",
    "        else:\n",
    "            for img_path in subfolder.rglob(\"*.bmp\"):\n",
    "                img_path = str(img_path).replace(dataset_dir.as_posix() + \"/\", \"\")\n",
    "                img_path = img_path.replace(\".bmp\", \".frame\")\n",
    "                img_path = img_path.replace(\"/\", \"\\\\\")\n",
    "\n",
    "                if img_path in train_keys:\n",
    "                    labels = train_ann[img_path]\n",
    "                    test_new[img_path] = labels\n",
    "    k += 1"
   ]
  },
  {
   "cell_type": "code",
   "execution_count": null,
   "metadata": {},
   "outputs": [],
   "source": [
    "with open(\"train.json\", \"w\", encoding=\"utf8\") as f:\n",
    "    json.dump(train_new, f, indent=4, ensure_ascii=False)\n",
    "with open(\"test.json\", \"w\", encoding=\"utf8\") as f:\n",
    "    json.dump(test_new, f, indent=4, ensure_ascii=False)\n",
    "print(len(train_new), len(test_new))"
   ]
  },
  {
   "cell_type": "markdown",
   "metadata": {},
   "source": [
    "## Создание ключ-карты классов"
   ]
  },
  {
   "cell_type": "code",
   "execution_count": null,
   "metadata": {},
   "outputs": [],
   "source": [
    "label_map = {\n",
    "    0: \"не дефект\",\n",
    "    1: \"потертость\",\n",
    "    2: \"черная точка\",\n",
    "    3: \"плена\",\n",
    "    4: \"маркер\",\n",
    "    5: \"грязь\",\n",
    "    6: \"накол\",\n",
    "    7: \"н.д. накол\",\n",
    "    8: \"микровыступ\",\n",
    "    9: \"н.д. микровыступ\",\n",
    "    10: \"вмятина\",\n",
    "    11: \"мех.повреждение\",\n",
    "    12: \"риска\",\n",
    "    13: \"царапина с волчком\",\n",
    "}\n",
    "with open(\"label_map.json\", \"w\", encoding=\"utf8\") as f:\n",
    "    json.dump(label_map, f, indent=4)"
   ]
  }
 ],
 "metadata": {
  "kernelspec": {
   "display_name": "rosatom",
   "language": "python",
   "name": "python3"
  },
  "language_info": {
   "codemirror_mode": {
    "name": "ipython",
    "version": 3
   },
   "file_extension": ".py",
   "mimetype": "text/x-python",
   "name": "python",
   "nbconvert_exporter": "python",
   "pygments_lexer": "ipython3",
   "version": "3.8.18"
  }
 },
 "nbformat": 4,
 "nbformat_minor": 2
}
